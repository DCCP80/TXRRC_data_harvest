{
 "cells": [
  {
   "cell_type": "code",
   "execution_count": 12,
   "metadata": {},
   "outputs": [],
   "source": [
    "import pandas as pd\n",
    "import ebcdic\n",
    "import codecs\n",
    "\n",
    "file = r'C:\\PublicData\\Texas\\TXRRC\\index\\dbf900.ebc'\n",
    "\n",
    "with open(file, 'rb') as ebcdic:\n",
    "    data = ebcdic.read()\n",
    "\n",
    "ascii_txt = codecs.decode(data[0:1000000], 'cp1140')"
   ]
  },
  {
   "cell_type": "code",
   "execution_count": 13,
   "metadata": {},
   "outputs": [
    {
     "data": {
      "text/plain": [
       "bytes"
      ]
     },
     "execution_count": 13,
     "metadata": {},
     "output_type": "execute_result"
    }
   ],
   "source": [
    "type(data)"
   ]
  },
  {
   "cell_type": "code",
   "execution_count": 15,
   "metadata": {},
   "outputs": [
    {
     "data": {
      "text/plain": [
       "str"
      ]
     },
     "execution_count": 15,
     "metadata": {},
     "output_type": "execute_result"
    }
   ],
   "source": [
    "type(ascii_txt)"
   ]
  },
  {
   "cell_type": "code",
   "execution_count": 10,
   "metadata": {},
   "outputs": [
    {
     "name": "stdout",
     "output_type": "stream",
     "text": [
      "0\n",
      "1\n"
     ]
    },
    {
     "ename": "AttributeError",
     "evalue": "'NoneType' object has no attribute 'append'",
     "output_type": "error",
     "traceback": [
      "\u001b[1;31m---------------------------------------------------------------------------\u001b[0m",
      "\u001b[1;31mAttributeError\u001b[0m                            Traceback (most recent call last)",
      "\u001b[1;32m<ipython-input-10-cad2c1141b4d>\u001b[0m in \u001b[0;36m<module>\u001b[1;34m\u001b[0m\n\u001b[0;32m      5\u001b[0m     \u001b[1;32mfor\u001b[0m \u001b[0mline\u001b[0m \u001b[1;32min\u001b[0m \u001b[0mdata\u001b[0m\u001b[1;33m:\u001b[0m\u001b[1;33m\u001b[0m\u001b[1;33m\u001b[0m\u001b[0m\n\u001b[0;32m      6\u001b[0m         \u001b[0mprint\u001b[0m\u001b[1;33m(\u001b[0m\u001b[0mline\u001b[0m\u001b[1;33m)\u001b[0m\u001b[1;33m\u001b[0m\u001b[1;33m\u001b[0m\u001b[0m\n\u001b[1;32m----> 7\u001b[1;33m         \u001b[0mrecord\u001b[0m \u001b[1;33m=\u001b[0m \u001b[0mrecord\u001b[0m\u001b[1;33m.\u001b[0m\u001b[0mappend\u001b[0m\u001b[1;33m(\u001b[0m\u001b[0mline\u001b[0m\u001b[1;33m)\u001b[0m\u001b[1;33m\u001b[0m\u001b[1;33m\u001b[0m\u001b[0m\n\u001b[0m\u001b[0;32m      8\u001b[0m         \u001b[1;32mif\u001b[0m \u001b[0mline\u001b[0m\u001b[1;33m.\u001b[0m\u001b[0mstartswith\u001b[0m\u001b[1;33m(\u001b[0m\u001b[1;34m'01'\u001b[0m\u001b[1;33m)\u001b[0m \u001b[1;32mand\u001b[0m \u001b[0mfirst\u001b[0m \u001b[1;33m==\u001b[0m \u001b[1;36m0\u001b[0m\u001b[1;33m:\u001b[0m\u001b[1;33m\u001b[0m\u001b[1;33m\u001b[0m\u001b[0m\n\u001b[0;32m      9\u001b[0m             \u001b[0mrecord_ct\u001b[0m\u001b[1;33m=\u001b[0m\u001b[1;36m1\u001b[0m\u001b[1;33m\u001b[0m\u001b[1;33m\u001b[0m\u001b[0m\n",
      "\u001b[1;31mAttributeError\u001b[0m: 'NoneType' object has no attribute 'append'"
     ]
    }
   ],
   "source": [
    "record_ct = 0\n",
    "first = 1\n",
    "record = []\n",
    "while record_ct == 0:\n",
    "    for line in data:\n",
    "        print(line)\n",
    "        record = record.append(line)\n",
    "        if line.startswith('01') and first == 0:\n",
    "            record_ct=1\n",
    "        first = 0\n",
    "            \n",
    "            \n",
    "        "
   ]
  },
  {
   "cell_type": "code",
   "execution_count": null,
   "metadata": {},
   "outputs": [],
   "source": [
    "\"\"\"Definitions from https://www.rrc.texas.gov/media/41906/wba091_well-bore-database.pdf\"\"\"\n",
    "WBROOT_01 = [\n",
    "            ('RRC-TAPE-RECORD-ID',0,2,'pic_any'),\n",
    "            ('WELL-BORE-API-ROOT',2,8,'pic_numeric'), ## Combines WB-API-CNTY and WB-API-UNIQUE\n",
    "            ('WB-NXT-AVAIL-SUFFIX',10,2,'pic_numeric'),\n",
    "            ('WB-NXT-AVAIL-HOLE-CHGE-NBR',12,2,'pic_numeric'),\n",
    "            ('WB-FIELD-DISTRICT',14,2,'pic_numeric'),\n",
    "            ('WB-RES-CNTY-CODE',16,3,'pic_numeric'),\n",
    "            ('WB-ORIG-COMPL-DATE',20,8,'pic_numeric'), ##YYYYMMDD Combines WB-ORIG-COMPL-CENT&YY&MM&DD\n",
    "            ('WB-TOTAL-DEPTH',28,5,'pic_numeric'),\n",
    "            ('WB-VALID-FLUID-LEVEL'33,5,'pic_numeric'),\n",
    "            ('WB-CERTIFICATION-REVOKED-DATE',38,8,'pic_numeric'), ##YYYYMMDD Combines WB-CERT-REVOKED-CC&YY&MM&DD\n",
    "            ('WB-CERTIFICATION-DENIAL-DATE',46,8,'pic_numeric'), ##YYYYMMDD Combines WB-CERTIFICATION-DENIAL-CC&YY&MM&DD\n",
    "            ('WB-DENIAL-REASON-FLAG',56,1,'pic_any'),\n",
    "            ('WB-ERROR-API-ASSIGN-CODE',55,1,'pic_any'),\n",
    "            ('WB-REFER-CORRECT-API-NBR',56,8,'pic_numeric'),\n",
    "            ('WB-DUMMY-API-NUMBER',64,8,'pic_numeric'),\n",
    "            ('WB-DATE-DUMMY-REPLACED',72,8,'pic_numeric'), ##YYYYMMDD\n",
    "            ('WB-NEWEST-DRL-PMT-NBR',80,6,'pic_numeric'),\n",
    "            ('WB-CANCEL-EXPIRE-CODE',86,1,'pic_any'),\n",
    "            ('WB-EXCEPT-13-A',88,1,'pic_any'),\n",
    "            ('WB-FRESH-WATER-FLAG',89,1,'pic_any'),\n",
    "            ('WB-PLUG-FLAG',90,1,'pic_any'),\n",
    "            ('WB-PREVIOUS-API-NBR',91,8,'pic_numeric'),\n",
    "            ('WB-COMPLETION-DATA-IND',99,1,'pic_any'),\n",
    "            ('WB-HIST-DATE-SOURCE-FLAG',100,1,pic_numeric),\n",
    "            ('WB-EX14B2-COUNT',102,2,pic_numeric),\n",
    "            ('WB-DESIGNATION-HB-1975-FLAG',104,1,'pic_any'),\n",
    "            ('WB-DESIGNATION-EFFECTIVE-DATE',105,6,'pic_numeric'), ##YYYYMM Combines WB-DESIGNATION-EFFEC-CC&YY&MM\n",
    "            ('WB-DESIGNATION-REVISED-DATE',111,6,'pic_numeric'), ##YYYYMM Combines WB-DESIGNATION-REVISED-CC&YY&MM\n",
    "            ('WB-DESIGNATION-LETTER-DATE',117,8,'pic_numeric'), ##YYYYMMDD Combines WB-DESIGNATION-LETTER-CC&YY&MM&DD\n",
    "            ('WB-CERTIFICATION-EFFECT-DATE',125,6,'pic_numeric'), ##YYYYMM Combines WB-CERTIFICATION-EFFEC-CC&YY&MM\n",
    "            ('WB-WATER-LAND-CODE',131,1,'pic_any'),\n",
    "            ('WB-TOTAL-BONDED-DEPTH',132,6,'pic_numeric'),\n",
    "            ('WB-OVERRIDE-EST-PLUG-COST',138,7,'pic_numeric'),\n",
    "            ('WB-SHUT-IN-DATE',145,6,'pic_numeric'), ##YYYYMM\n",
    "            ('WB-OVERRIDE-BONDED-DEPTH',151,6,'pic_numeric'),\n",
    "            ('WB-SUBJ-TO-14B2-FLAG',157,1,'pic_any'),\n",
    "            ('WB-PEND-REMOVAL-14B2-FLAG',158,1,'pic_any'),\n",
    "            ('WB-ORPHAN-WELL-HOLD-FLAG',159,1,'pic_any'),\n",
    "            ('WB-W3X-WELL-FLAG',160,1,'pic_any')\n",
    "            ]\n",
    "\n",
    "WBCOMPL_02 =[\n",
    "            ('RRC-TAPE-RECORD-ID',1,2,'pic_any'),\n",
    "            ('WB-OIL-CODE',2,1,'pic_any'), ##possible issue when defined for gas\n",
    "            ('WB-OIL-DIST',3,2,'pic_numeric'), ##possible issue when defined for gas\n",
    "            ('WB-OIL-LSE-NBR',5,5,'pic_numeric'), ##possible issue when defined for gas\n",
    "            ('WB-OIL-WELL-NBR',10,6,'pic_any'), ##possible issue when defined for gas\n",
    "            ('WB-GAS-DIST',16,2,'pic_numeric'),\n",
    "            ('WB-GAS-WELL-NO',18,6,'pic_any'),\n",
    "            ('WB-MULTI-WELL-REC-NBR',24,1,'pic_any'),\n",
    "            ('WB-API-SUFFIX',25,2,'pic_numeric'),\n",
    "            ('WB-ACTIVE-INACTIVE-CODE',45,1,'pic_any'),\n",
    "            ('WB-DWN-HOLE-COMMINGLE-CODE',86,1,'pic_any'),\n",
    "            ('WB-CREATED-FROM-PI-FLAG',121,1,'pic_any'),\n",
    "            ('WB-RULE-37-NBR',122,7,'pic_numeric'),\n",
    "            ('WB-P-15',155,1,'pic_any'),\n",
    "            ('WB-P-12',156,1,'pic_any'),\n",
    "            ('WB-PLUG-DATE-POINTER',157,8,'pic_numeric')\n",
    "            ]\n",
    "\n",
    "WBDATE_03 = [\n",
    "            ('RRC-TAPE-RECORD-ID',0,2,'pic_any'),\n",
    "            ('WB-FILE-KEY',2,8,'pic_numeric'),\n",
    "            ('WB-FILE-DATE',10,8,'pic_numeric'), ##YYYYMMDD\n",
    "            ('WB-EXCEPT-RULE-11',26,1,'pic_any'),\n",
    "            ('WB-CEMENT-AFFIDAVIT',27,1,'pic_any'),\n",
    "            ('WB-G-5',28,1,'pic_any'),\n",
    "            ('WB-W-12',29,1,'pic_any'),\n",
    "            ('WB-DIR-SURVEY',30,1,'pic_any'),\n",
    "            ('WB-W2-G1-DATE ',31,8,'pic_numeric'), ##YYYYMMDD\n",
    "            ('WB-COMPL-DATE',39,8,'pic_numeric'), ##YYYYMMDD Combines WB-COMPL-CENTURY&YEAR&MONTH&DAY\n",
    "            ('WB-DRL-COMPL-DATE',47,8,'pic_numeric'), ##YYYYMMDD\n",
    "            ('WB-PLUGB-DEPTH1',55,5,'pic_numeric'),\n",
    "            ('WB-PLUGB-DEPTH2',60,5,'pic_numeric'),\n",
    "            ('WB-WATER-INJECTION-NBR',65,6,'pic_any'),\n",
    "            ('WB-SALT-WTR-NBR',71,5,'pic_numeric'),\n",
    "            ('WB-REMARKS-IND',84,1,'pic_any'),\n",
    "            ('WB-ELEVATION',85,4,'pic_numeric'),\n",
    "            ('WB-ELEVATION-CODE',89,2,'pic_any'),\n",
    "            ('WB-LOG-FILE-RBA',91,8,'pic_numeric'),\n",
    "            ('WB-DOCKET-NBR',99,10,'pic_any'),\n",
    "            ('WB-PSA-WELL-FLAG',109,1,'pic_any'),\n",
    "            ('WB-ALLOCATION-WELL-FLAG',110,1,'pic_any')\n",
    "            ]\n",
    "\n"
   ]
  }
 ],
 "metadata": {
  "kernelspec": {
   "display_name": "Python 3",
   "language": "python",
   "name": "python3"
  },
  "language_info": {
   "codemirror_mode": {
    "name": "ipython",
    "version": 3
   },
   "file_extension": ".py",
   "mimetype": "text/x-python",
   "name": "python",
   "nbconvert_exporter": "python",
   "pygments_lexer": "ipython3",
   "version": "3.7.7"
  }
 },
 "nbformat": 4,
 "nbformat_minor": 4
}
