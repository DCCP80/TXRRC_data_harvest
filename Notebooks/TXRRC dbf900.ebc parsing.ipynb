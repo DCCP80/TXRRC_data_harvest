{
 "cells": [
  {
   "cell_type": "code",
   "execution_count": 1,
   "metadata": {},
   "outputs": [],
   "source": [
    "import pandas as pd\n",
    "import ebcdic\n",
    "import codecs\n",
    "\n",
    "file = r'C:\\PublicData\\Texas\\TXRRC\\index\\dbf900.ebc'\n",
    "\n",
    "with open(file, 'rb') as ebcdic:\n",
    "    #ascii_txt = codecs.decode(ebcdic, 'cp1140') #requires it to be read in chunks\n",
    "    data = ebcdic.read(500)\n",
    "\n",
    "ascii_txt = codecs.decode(data, 'cp1140')"
   ]
  },
  {
   "cell_type": "code",
   "execution_count": 2,
   "metadata": {},
   "outputs": [
    {
     "data": {
      "text/plain": [
       "'0100100001010106001 19631027000000000000000000000000000 000000000010000100000000000000  NNN00000000Y0 13A19930900000019931022199602L0040230000000199801000000Y 00000000                                                                                02O0604411   1  00      000000000000000000000                                          0000000000000000000000000000000000N0000000     00000          0000  NN00000000                                                                                  038015'"
      ]
     },
     "execution_count": 2,
     "metadata": {},
     "output_type": "execute_result"
    }
   ],
   "source": [
    "ascii_txt"
   ]
  },
  {
   "cell_type": "code",
   "execution_count": null,
   "metadata": {},
   "outputs": [],
   "source": []
  }
 ],
 "metadata": {
  "kernelspec": {
   "display_name": "Python 3",
   "language": "python",
   "name": "python3"
  },
  "language_info": {
   "codemirror_mode": {
    "name": "ipython",
    "version": 3
   },
   "file_extension": ".py",
   "mimetype": "text/x-python",
   "name": "python",
   "nbconvert_exporter": "python",
   "pygments_lexer": "ipython3",
   "version": "3.7.7"
  }
 },
 "nbformat": 4,
 "nbformat_minor": 4
}
