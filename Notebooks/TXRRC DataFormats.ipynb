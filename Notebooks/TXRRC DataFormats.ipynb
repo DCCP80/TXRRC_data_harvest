{
 "cells": [
  {
   "cell_type": "code",
   "execution_count": 1,
   "metadata": {},
   "outputs": [],
   "source": [
    "import pandas as pd\n",
    "import ebcdic\n",
    "import codecs\n",
    "\n",
    "file = r'C:\\PublicData\\Texas\\TXRRC\\index\\dbf900.ebc' ##Local storage location\n",
    "##file origin: ftp://ftpe.rrc.texas.gov/shfwba/dbf900.ebc.gz\n",
    "\n",
    "with open(file, 'rb') as ebcdic:\n",
    "    data = ebcdic.read()\n",
    "\n",
    "ascii_txt = codecs.decode(data, 'cp1140')"
   ]
  },
  {
   "cell_type": "code",
   "execution_count": 2,
   "metadata": {},
   "outputs": [],
   "source": [
    "split_records = []\n",
    "n  = 247 ##Unknown if this holds true for all versions of this file or for other files on TXRRC\n",
    "\n",
    "for index in range(0, len(ascii_txt), n):\n",
    "    split_records.append(ascii_txt[index : index + n])"
   ]
  },
  {
   "cell_type": "markdown",
   "metadata": {},
   "source": [
    "#### Checking different fields and the formats\n",
    "The lat and long data is a COBOL comp3 format decimal PIC S9(3)V9(7) which should translate to DDD.DDDDDDD\n",
    "\n",
    "Getting values in the last position that are letters or \"{\" that do not make sense. From;\n",
    "http://3480-3590-data-conversion.com/article-packed-fields.html\n",
    "the last position should indicate the sign of the number, but there isn't a consistent decoding to make that work out.\n",
    "\n",
    "The TXRRC map shows a 7decimal place percision when exported, but only 6 when reviewed though the info tool, these might be coming from different file sources. The 6decimal percision can be grabbed from the current field without the last letter code"
   ]
  },
  {
   "cell_type": "code",
   "execution_count": 44,
   "metadata": {
    "scrolled": true
   },
   "outputs": [
    {
     "name": "stdout",
     "output_type": "stream",
     "text": [
      "31.645677 -102.36856\n",
      "1063 API: 4210334286 lat: 031645677F long: 102368560A\n",
      "1063 API: 4210334286 Zone: 03 Coord-E: 013668190{ Coord-N: 007254970{\n",
      "31.639793 -102.363698\n",
      "1089 API: 4210334312 lat: 031639793F long: 102363698D\n",
      "1089 API: 4210334312 Zone: 03 Coord-E: 013692980{ Coord-N: 007234250{\n",
      "31.61775 -102.325234\n",
      "1100 API: 4210334323 lat: 031617750A long: 102325234I\n",
      "1100 API: 4210334323 Zone: 03 Coord-E: 013799500{ Coord-N: 007150400{\n",
      "31.622356 -102.325796\n",
      "1101 API: 4210334324 lat: 031622356F long: 102325796B\n",
      "1101 API: 4210334324 Zone: 03 Coord-E: 013799750{ Coord-N: 007157700{\n",
      "31.624079 -102.321936\n",
      "1102 API: 4210334325 lat: 031624079G long: 102321936C\n",
      "1102 API: 4210334325 Zone: 03 Coord-E: 013811900{ Coord-N: 007173630{\n",
      "31.615237 -102.324366\n",
      "1103 API: 4210334326 lat: 031615237D long: 102324366I\n",
      "1103 API: 4210334326 Zone: 03 Coord-E: 013802000{ Coord-N: 007141200{\n",
      "31.582741 -102.346673\n",
      "1182 API: 4210334405 lat: 031582741E long: 102346673A\n",
      "1182 API: 4210334405 Zone: 03 Coord-E: 013731690{ Coord-N: 007025670{\n",
      "31.589944 -102.356245\n",
      "1188 API: 4210334411 lat: 031589944{ long: 102356245D\n",
      "1188 API: 4210334411 Zone: 03 Coord-E: 013702820{ Coord-N: 007051570{\n",
      "31.641623 -102.390659\n",
      "1208 API: 4210334431 lat: 031641623D long: 102390659A\n",
      "1208 API: 4210334431 Zone: 03 Coord-E: 013599160{ Coord-N: 007241490{\n",
      "31.629762 -102.395107\n",
      "1209 API: 4210334432 lat: 031629762I long: 102395107C\n",
      "1209 API: 4210334432 Zone: 03 Coord-E: 013584520{ Coord-N: 007198610{\n",
      "31.634446 -102.38946\n",
      "1223 API: 4210334446 lat: 031634446A long: 102389460{\n",
      "1223 API: 4210334446 Zone: 03 Coord-E: 013602250{ Coord-N: 007215870{\n",
      "31.622224 -102.389147\n",
      "1224 API: 4210334447 lat: 031622224E long: 102389147C\n",
      "1224 API: 4210334447 Zone: 03 Coord-E: 013602560{ Coord-N: 007170850{\n",
      "31.553238 -102.325206\n",
      "1226 API: 4210334449 lat: 031553238C long: 102325206E\n",
      "1226 API: 4210334449 Zone: 03 Coord-E: 003797060{ Coord-N: 006916330{\n",
      "31.638426 -102.385239\n",
      "1260 API: 4210334483 lat: 031638426B long: 102385239{\n",
      "1260 API: 4210334483 Zone: 03 Coord-E: 013615810{ Coord-N: 007229550{\n",
      "31.573544 -102.340905\n",
      "1261 API: 4210334484 lat: 031573544C long: 102340905D\n",
      "1261 API: 4210334484 Zone: 03 Coord-E: 013749500{ Coord-N: 006991060{\n",
      "31.275874 -102.363625\n",
      "1341 API: 4210334565 lat: 031275874E long: 102363625C\n",
      "1341 API: 4210334565 Zone: 03 Coord-E: 013659000{ Coord-N: 005909800{\n",
      "30.704364 -101.172894\n",
      "4075 API: 4210500780 lat: 030704364E long: 101172894G\n",
      "4075 API: 4210500780 Zone: 03 Coord-E: 017362753{ Coord-N: 003783259{\n",
      "30.695653 -101.174155\n",
      "6224 API: 4210511040 lat: 030695653B long: 101174155E\n",
      "6224 API: 4210511040 Zone: 03 Coord-E: 017358551{ Coord-N: 003751608{\n"
     ]
    }
   ],
   "source": [
    "API = None\n",
    "ct = 0\n",
    "\n",
    "sample_records = split_records[4000000:4200000]\n",
    "\n",
    "for record in sample_records:\n",
    "    if record.startswith('01'):\n",
    "        API = '42'+record[2:10]\n",
    "    if record.startswith('13'):\n",
    "        #print(record)\n",
    "        #print(ct,'API:',API,'lat:',record[132:142],'long:',record[142:152])\n",
    "        try:\n",
    "            #Checking to see if value for WB-PLANE-COORDINATE-EAST can be converted to number\n",
    "            val = int(record[159:168])\n",
    "        except:\n",
    "            val = 0\n",
    "            \n",
    "        if val > 0:\n",
    "            lat = float(str(int(record[132:135]))+'.'+str(int(record[135:141])))\n",
    "            long = float('-'+str(int(record[142:145]))+'.'+str(int(record[145:151])))\n",
    "            print(lat, long)\n",
    "            print(ct,'API:',API,'lat:',record[132:142],'long:',record[142:152])\n",
    "            print(ct,'API:',API,'Zone:',record[157:159],'Coord-E:',record[159:169],'Coord-N:',record[169:179])\n",
    "        ct+=1"
   ]
  },
  {
   "cell_type": "code",
   "execution_count": 18,
   "metadata": {},
   "outputs": [
    {
     "data": {
      "text/plain": [
       "25198781"
      ]
     },
     "execution_count": 18,
     "metadata": {},
     "output_type": "execute_result"
    }
   ],
   "source": [
    "len(split_records)"
   ]
  },
  {
   "cell_type": "code",
   "execution_count": null,
   "metadata": {},
   "outputs": [],
   "source": []
  }
 ],
 "metadata": {
  "kernelspec": {
   "display_name": "Python 3",
   "language": "python",
   "name": "python3"
  },
  "language_info": {
   "codemirror_mode": {
    "name": "ipython",
    "version": 3
   },
   "file_extension": ".py",
   "mimetype": "text/x-python",
   "name": "python",
   "nbconvert_exporter": "python",
   "pygments_lexer": "ipython3",
   "version": "3.7.7"
  }
 },
 "nbformat": 4,
 "nbformat_minor": 4
}
